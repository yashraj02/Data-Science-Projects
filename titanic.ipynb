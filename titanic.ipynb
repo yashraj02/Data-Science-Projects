{
  "nbformat": 4,
  "nbformat_minor": 0,
  "metadata": {
    "colab": {
      "name": "titanic.ipynb",
      "provenance": [],
      "collapsed_sections": [],
      "authorship_tag": "ABX9TyMi6AEgzGlgyu65KxdPRxSn",
      "include_colab_link": true
    },
    "kernelspec": {
      "name": "python3",
      "display_name": "Python 3"
    }
  },
  "cells": [
    {
      "cell_type": "markdown",
      "metadata": {
        "id": "view-in-github",
        "colab_type": "text"
      },
      "source": [
        "<a href=\"https://colab.research.google.com/github/yashraj02/Data-Science-Projects/blob/master/titanic.ipynb\" target=\"_parent\"><img src=\"https://colab.research.google.com/assets/colab-badge.svg\" alt=\"Open In Colab\"/></a>"
      ]
    },
    {
      "cell_type": "code",
      "metadata": {
        "id": "NLOn2RiFLQIh",
        "colab_type": "code",
        "outputId": "ebb7f411-56c5-42f7-88f2-5edb137b1f64",
        "colab": {
          "base_uri": "https://localhost:8080/",
          "height": 125
        }
      },
      "source": [
        "from google.colab import drive\n",
        "drive.mount('/content/drive')"
      ],
      "execution_count": 0,
      "outputs": [
        {
          "output_type": "stream",
          "text": [
            "Go to this URL in a browser: https://accounts.google.com/o/oauth2/auth?client_id=947318989803-6bn6qk8qdgf4n4g3pfee6491hc0brc4i.apps.googleusercontent.com&redirect_uri=urn%3aietf%3awg%3aoauth%3a2.0%3aoob&response_type=code&scope=email%20https%3a%2f%2fwww.googleapis.com%2fauth%2fdocs.test%20https%3a%2f%2fwww.googleapis.com%2fauth%2fdrive%20https%3a%2f%2fwww.googleapis.com%2fauth%2fdrive.photos.readonly%20https%3a%2f%2fwww.googleapis.com%2fauth%2fpeopleapi.readonly\n",
            "\n",
            "Enter your authorization code:\n",
            "··········\n",
            "Mounted at /content/drive\n"
          ],
          "name": "stdout"
        }
      ]
    },
    {
      "cell_type": "code",
      "metadata": {
        "id": "Ue6FISNxLzqG",
        "colab_type": "code",
        "colab": {}
      },
      "source": [
        "import pandas as pd\n",
        "import numpy as np\n",
        "import statistics\n",
        "from sklearn import preprocessing\n",
        "from sklearn.preprocessing import LabelEncoder, OneHotEncoder\n",
        "from sklearn.preprocessing import MinMaxScaler\n",
        "from sklearn.model_selection import train_test_split\n",
        "\n",
        "from sklearn.linear_model import LogisticRegression\n",
        "from sklearn.naive_bayes import GaussianNB\n",
        "from sklearn.model_selection import cross_val_score\n",
        "\n",
        "from sklearn.metrics import confusion_matrix\n",
        "from sklearn.metrics import classification_report"
      ],
      "execution_count": 0,
      "outputs": []
    },
    {
      "cell_type": "code",
      "metadata": {
        "id": "-ycCwz2yMEJt",
        "colab_type": "code",
        "colab": {}
      },
      "source": [
        "dataset = pd.read_csv('/content/drive/My Drive/Data Science/Titanic/titanic.csv')\n",
        "dataset.set_index('PassengerId',inplace=True)"
      ],
      "execution_count": 0,
      "outputs": []
    },
    {
      "cell_type": "code",
      "metadata": {
        "id": "3Vg-c3YcMEMY",
        "colab_type": "code",
        "outputId": "cdaf1a20-5192-4be0-e35c-63939eae3a20",
        "colab": {
          "base_uri": "https://localhost:8080/",
          "height": 543
        }
      },
      "source": [
        "#Data Cleaning\n",
        "dataset.iloc[:,-1].fillna(statistics.mode(dataset.iloc[:,-1]),inplace=True) #embarked NaN to mode\n",
        "dataset.iloc[:,4].fillna(np.nanmedian(dataset.iloc[:,4]),inplace=True) #age NaN to median\n",
        "\n",
        "#-------------------------------------------\n",
        "#Extracting from Name\n",
        "new = dataset['Name'].str.split(\", \", n=1, expand=True)[1]\n",
        "new = new.str.split(\" \",n=0,expand=True)[0]\n",
        "print(new.unique())\n",
        "\n",
        "dataset.loc[dataset['Name'].str.contains('Mr.', case=False), 'Title'] = 'Mr'\n",
        "dataset.loc[dataset['Name'].str.contains('Mrs.', case=False), 'Title'] = 'Mrs'\n",
        "dataset.loc[dataset['Name'].str.contains('Miss.', case=False), 'Title'] = 'Miss'\n",
        "dataset.loc[dataset['Name'].str.contains('Master.', case=False), 'Title'] = 'Master'\n",
        "dataset.loc[dataset['Name'].str.contains('Mme.', case=False), 'Title'] = 'Mrs'\n",
        "dataset.loc[dataset['Name'].str.contains('Ms.', case=False), 'Title'] = 'Miss'\n",
        "dataset.loc[dataset['Name'].str.contains('Mlle.', case=False), 'Title'] = 'Miss'\n",
        "dataset.loc[dataset['Name'].str.contains('Don.', case=False), 'Title'] = 'Rare'\n",
        "dataset.loc[dataset['Name'].str.contains('Rev.', case=False), 'Title'] = 'Rare'\n",
        "dataset.loc[dataset['Name'].str.contains('Dr.', case=False), 'Title'] = 'Rare'\n",
        "dataset.loc[dataset['Name'].str.contains('Major.', case=False), 'Title'] = 'Rare'\n",
        "dataset.loc[dataset['Name'].str.contains('Lady.', case=False), 'Title'] = 'Rare'\n",
        "dataset.loc[dataset['Name'].str.contains('Sir.', case=False), 'Title'] = 'Rare'\n",
        "dataset.loc[dataset['Name'].str.contains('Col.', case=False), 'Title'] = 'Rare'\n",
        "dataset.loc[dataset['Name'].str.contains('Capt.', case=False), 'Title'] = 'Rare'\n",
        "dataset.loc[dataset['Name'].str.contains('the.', case=False), 'Title'] = 'Rare'\n",
        "dataset.loc[dataset['Name'].str.contains('Jonkheer.', case=False), 'Title'] = 'Rare'\n",
        "\n",
        "titles = {'Mr':1, 'Miss':2, 'Mrs':3, 'Master':4, 'Rare':5}\n",
        "dataset['Title'] = dataset['Title'].map(titles)\n",
        "dataset"
      ],
      "execution_count": 0,
      "outputs": [
        {
          "output_type": "stream",
          "text": [
            "['Mr.' 'Mrs.' 'Miss.' 'Master.' 'Don.' 'Rev.' 'Dr.' 'Mme.' 'Ms.' 'Major.'\n",
            " 'Lady.' 'Sir.' 'Mlle.' 'Col.' 'Capt.' 'the' 'Jonkheer.']\n"
          ],
          "name": "stdout"
        },
        {
          "output_type": "execute_result",
          "data": {
            "text/html": [
              "<div>\n",
              "<style scoped>\n",
              "    .dataframe tbody tr th:only-of-type {\n",
              "        vertical-align: middle;\n",
              "    }\n",
              "\n",
              "    .dataframe tbody tr th {\n",
              "        vertical-align: top;\n",
              "    }\n",
              "\n",
              "    .dataframe thead th {\n",
              "        text-align: right;\n",
              "    }\n",
              "</style>\n",
              "<table border=\"1\" class=\"dataframe\">\n",
              "  <thead>\n",
              "    <tr style=\"text-align: right;\">\n",
              "      <th></th>\n",
              "      <th>Survived</th>\n",
              "      <th>Pclass</th>\n",
              "      <th>Name</th>\n",
              "      <th>Sex</th>\n",
              "      <th>Age</th>\n",
              "      <th>SibSp</th>\n",
              "      <th>Parch</th>\n",
              "      <th>Ticket</th>\n",
              "      <th>Fare</th>\n",
              "      <th>Cabin</th>\n",
              "      <th>Embarked</th>\n",
              "      <th>Title</th>\n",
              "    </tr>\n",
              "    <tr>\n",
              "      <th>PassengerId</th>\n",
              "      <th></th>\n",
              "      <th></th>\n",
              "      <th></th>\n",
              "      <th></th>\n",
              "      <th></th>\n",
              "      <th></th>\n",
              "      <th></th>\n",
              "      <th></th>\n",
              "      <th></th>\n",
              "      <th></th>\n",
              "      <th></th>\n",
              "      <th></th>\n",
              "    </tr>\n",
              "  </thead>\n",
              "  <tbody>\n",
              "    <tr>\n",
              "      <th>1</th>\n",
              "      <td>0</td>\n",
              "      <td>3</td>\n",
              "      <td>Braund, Mr. Owen Harris</td>\n",
              "      <td>male</td>\n",
              "      <td>22.0</td>\n",
              "      <td>1</td>\n",
              "      <td>0</td>\n",
              "      <td>A/5 21171</td>\n",
              "      <td>7.2500</td>\n",
              "      <td>NaN</td>\n",
              "      <td>S</td>\n",
              "      <td>1</td>\n",
              "    </tr>\n",
              "    <tr>\n",
              "      <th>2</th>\n",
              "      <td>1</td>\n",
              "      <td>1</td>\n",
              "      <td>Cumings, Mrs. John Bradley (Florence Briggs Th...</td>\n",
              "      <td>female</td>\n",
              "      <td>38.0</td>\n",
              "      <td>1</td>\n",
              "      <td>0</td>\n",
              "      <td>PC 17599</td>\n",
              "      <td>71.2833</td>\n",
              "      <td>C85</td>\n",
              "      <td>C</td>\n",
              "      <td>3</td>\n",
              "    </tr>\n",
              "    <tr>\n",
              "      <th>3</th>\n",
              "      <td>1</td>\n",
              "      <td>3</td>\n",
              "      <td>Heikkinen, Miss. Laina</td>\n",
              "      <td>female</td>\n",
              "      <td>26.0</td>\n",
              "      <td>0</td>\n",
              "      <td>0</td>\n",
              "      <td>STON/O2. 3101282</td>\n",
              "      <td>7.9250</td>\n",
              "      <td>NaN</td>\n",
              "      <td>S</td>\n",
              "      <td>2</td>\n",
              "    </tr>\n",
              "    <tr>\n",
              "      <th>4</th>\n",
              "      <td>1</td>\n",
              "      <td>1</td>\n",
              "      <td>Futrelle, Mrs. Jacques Heath (Lily May Peel)</td>\n",
              "      <td>female</td>\n",
              "      <td>35.0</td>\n",
              "      <td>1</td>\n",
              "      <td>0</td>\n",
              "      <td>113803</td>\n",
              "      <td>53.1000</td>\n",
              "      <td>C123</td>\n",
              "      <td>S</td>\n",
              "      <td>3</td>\n",
              "    </tr>\n",
              "    <tr>\n",
              "      <th>5</th>\n",
              "      <td>0</td>\n",
              "      <td>3</td>\n",
              "      <td>Allen, Mr. William Henry</td>\n",
              "      <td>male</td>\n",
              "      <td>35.0</td>\n",
              "      <td>0</td>\n",
              "      <td>0</td>\n",
              "      <td>373450</td>\n",
              "      <td>8.0500</td>\n",
              "      <td>NaN</td>\n",
              "      <td>S</td>\n",
              "      <td>1</td>\n",
              "    </tr>\n",
              "    <tr>\n",
              "      <th>...</th>\n",
              "      <td>...</td>\n",
              "      <td>...</td>\n",
              "      <td>...</td>\n",
              "      <td>...</td>\n",
              "      <td>...</td>\n",
              "      <td>...</td>\n",
              "      <td>...</td>\n",
              "      <td>...</td>\n",
              "      <td>...</td>\n",
              "      <td>...</td>\n",
              "      <td>...</td>\n",
              "      <td>...</td>\n",
              "    </tr>\n",
              "    <tr>\n",
              "      <th>887</th>\n",
              "      <td>0</td>\n",
              "      <td>2</td>\n",
              "      <td>Montvila, Rev. Juozas</td>\n",
              "      <td>male</td>\n",
              "      <td>27.0</td>\n",
              "      <td>0</td>\n",
              "      <td>0</td>\n",
              "      <td>211536</td>\n",
              "      <td>13.0000</td>\n",
              "      <td>NaN</td>\n",
              "      <td>S</td>\n",
              "      <td>5</td>\n",
              "    </tr>\n",
              "    <tr>\n",
              "      <th>888</th>\n",
              "      <td>1</td>\n",
              "      <td>1</td>\n",
              "      <td>Graham, Miss. Margaret Edith</td>\n",
              "      <td>female</td>\n",
              "      <td>19.0</td>\n",
              "      <td>0</td>\n",
              "      <td>0</td>\n",
              "      <td>112053</td>\n",
              "      <td>30.0000</td>\n",
              "      <td>B42</td>\n",
              "      <td>S</td>\n",
              "      <td>2</td>\n",
              "    </tr>\n",
              "    <tr>\n",
              "      <th>889</th>\n",
              "      <td>0</td>\n",
              "      <td>3</td>\n",
              "      <td>Johnston, Miss. Catherine Helen \"Carrie\"</td>\n",
              "      <td>female</td>\n",
              "      <td>28.0</td>\n",
              "      <td>1</td>\n",
              "      <td>2</td>\n",
              "      <td>W./C. 6607</td>\n",
              "      <td>23.4500</td>\n",
              "      <td>NaN</td>\n",
              "      <td>S</td>\n",
              "      <td>5</td>\n",
              "    </tr>\n",
              "    <tr>\n",
              "      <th>890</th>\n",
              "      <td>1</td>\n",
              "      <td>1</td>\n",
              "      <td>Behr, Mr. Karl Howell</td>\n",
              "      <td>male</td>\n",
              "      <td>26.0</td>\n",
              "      <td>0</td>\n",
              "      <td>0</td>\n",
              "      <td>111369</td>\n",
              "      <td>30.0000</td>\n",
              "      <td>C148</td>\n",
              "      <td>C</td>\n",
              "      <td>1</td>\n",
              "    </tr>\n",
              "    <tr>\n",
              "      <th>891</th>\n",
              "      <td>0</td>\n",
              "      <td>3</td>\n",
              "      <td>Dooley, Mr. Patrick</td>\n",
              "      <td>male</td>\n",
              "      <td>32.0</td>\n",
              "      <td>0</td>\n",
              "      <td>0</td>\n",
              "      <td>370376</td>\n",
              "      <td>7.7500</td>\n",
              "      <td>NaN</td>\n",
              "      <td>Q</td>\n",
              "      <td>1</td>\n",
              "    </tr>\n",
              "  </tbody>\n",
              "</table>\n",
              "<p>891 rows × 12 columns</p>\n",
              "</div>"
            ],
            "text/plain": [
              "             Survived  Pclass  ... Embarked Title\n",
              "PassengerId                    ...               \n",
              "1                   0       3  ...        S     1\n",
              "2                   1       1  ...        C     3\n",
              "3                   1       3  ...        S     2\n",
              "4                   1       1  ...        S     3\n",
              "5                   0       3  ...        S     1\n",
              "...               ...     ...  ...      ...   ...\n",
              "887                 0       2  ...        S     5\n",
              "888                 1       1  ...        S     2\n",
              "889                 0       3  ...        S     5\n",
              "890                 1       1  ...        C     1\n",
              "891                 0       3  ...        Q     1\n",
              "\n",
              "[891 rows x 12 columns]"
            ]
          },
          "metadata": {
            "tags": []
          },
          "execution_count": 4
        }
      ]
    },
    {
      "cell_type": "code",
      "metadata": {
        "id": "dPiwwZiremW1",
        "colab_type": "code",
        "colab": {}
      },
      "source": [
        "dataset['Cabin_Code'] = dataset['Cabin'].astype(str).str[0]"
      ],
      "execution_count": 0,
      "outputs": []
    },
    {
      "cell_type": "code",
      "metadata": {
        "id": "rEA-Q4XpErL7",
        "colab_type": "code",
        "colab": {}
      },
      "source": [
        "# Age range \n",
        "pd.qcut(dataset['Age'], q=6)\n",
        "dataset['Age'] = dataset['Age']\n",
        "dataset.loc[dataset['Age']<=19, 'AgeRange'] = 1\n",
        "dataset.loc[(dataset['Age']>19) & (dataset['Age']<=25), 'AgeRange'] = 2\n",
        "dataset.loc[(dataset['Age']>25) & (dataset['Age']<=28), 'AgeRange'] = 3\n",
        "dataset.loc[(dataset['Age']>28) & (dataset['Age']<=31), 'AgeRange'] = 4\n",
        "dataset.loc[(dataset['Age']>31) & (dataset['Age']<=41), 'AgeRange'] = 5\n",
        "dataset.loc[dataset['Age']>31, 'AgeRange'] = 6"
      ],
      "execution_count": 0,
      "outputs": []
    },
    {
      "cell_type": "code",
      "metadata": {
        "id": "Vy_d8HRQAuEC",
        "colab_type": "code",
        "colab": {}
      },
      "source": [
        "# Cabin to Deck\n",
        "deck = {'n':0, 'A':1,'B':2,'C':3,'D':4,'E':5,'F':6,'G':7,'T':8}\n",
        "dataset['Cabin_Code'] = dataset['Cabin_Code'].map(deck)\n",
        "dataset = dataset.drop('Cabin',axis=1)"
      ],
      "execution_count": 0,
      "outputs": []
    },
    {
      "cell_type": "code",
      "metadata": {
        "id": "tFxzgBK7HRjN",
        "colab_type": "code",
        "colab": {}
      },
      "source": [
        "# Relatives & Alone or Not\n",
        "dataset['Relatives'] = dataset['Parch'] + dataset['SibSp']\n",
        "dataset.loc[dataset['Relatives']>0, 'Alone'] = 0\n",
        "dataset.loc[dataset['Relatives']==0, 'Alone'] = 1"
      ],
      "execution_count": 0,
      "outputs": []
    },
    {
      "cell_type": "code",
      "metadata": {
        "id": "gC_7qXrNKW61",
        "colab_type": "code",
        "colab": {}
      },
      "source": [
        "# Turning Fare in range of 1 to 3\n",
        "# pd.qcut(dataset['Fare'], q=3)\n",
        "dataset.loc[dataset['Fare']<=8.662, 'Fare'] = 1\n",
        "dataset.loc[(dataset['Fare']>8.662) & (dataset['Fare']<=26), 'Fare'] = 2\n",
        "dataset.loc[(dataset['Fare']>26) & (dataset['Fare']<=512.5), 'Fare'] = 3\n",
        "dataset['Fare_PP'] = (dataset['Relatives']+1)/dataset['Fare']"
      ],
      "execution_count": 0,
      "outputs": []
    },
    {
      "cell_type": "code",
      "metadata": {
        "id": "BxdXHFruBQz7",
        "colab_type": "code",
        "colab": {}
      },
      "source": [
        "sex = {'male':0,'female':1}\n",
        "dataset['Sex'] = dataset['Sex'].map(sex)"
      ],
      "execution_count": 0,
      "outputs": []
    },
    {
      "cell_type": "code",
      "metadata": {
        "id": "UL5zon0vB62P",
        "colab_type": "code",
        "outputId": "08114d3c-8156-4d60-cc71-1501ccf854bc",
        "colab": {
          "base_uri": "https://localhost:8080/",
          "height": 70
        }
      },
      "source": [
        "print(dataset[(dataset['Embarked']=='Q') & (dataset['Survived']==1)].count()[0])\n",
        "print(dataset[(dataset['Embarked']=='C') & (dataset['Survived']==1)].count()[0])\n",
        "print(dataset[(dataset['Embarked']=='S') & (dataset['Survived']==1)].count()[0])\n",
        "embarked = {'Q':1,'C':2,'S':3}\n",
        "dataset['Embarked'] = dataset['Embarked'].map(embarked)"
      ],
      "execution_count": 0,
      "outputs": [
        {
          "output_type": "stream",
          "text": [
            "30\n",
            "93\n",
            "219\n"
          ],
          "name": "stdout"
        }
      ]
    },
    {
      "cell_type": "code",
      "metadata": {
        "id": "dqrZ_NLh9xSN",
        "colab_type": "code",
        "colab": {}
      },
      "source": [
        "dataset.drop(['Name','Ticket','Age'], axis=1, inplace=True)"
      ],
      "execution_count": 0,
      "outputs": []
    },
    {
      "cell_type": "code",
      "metadata": {
        "id": "TSx3kr6i_vaY",
        "colab_type": "code",
        "outputId": "6fb890ed-9dfa-459d-c243-1e3494e051e6",
        "colab": {
          "base_uri": "https://localhost:8080/",
          "height": 440
        }
      },
      "source": [
        "dataset"
      ],
      "execution_count": 0,
      "outputs": [
        {
          "output_type": "execute_result",
          "data": {
            "text/html": [
              "<div>\n",
              "<style scoped>\n",
              "    .dataframe tbody tr th:only-of-type {\n",
              "        vertical-align: middle;\n",
              "    }\n",
              "\n",
              "    .dataframe tbody tr th {\n",
              "        vertical-align: top;\n",
              "    }\n",
              "\n",
              "    .dataframe thead th {\n",
              "        text-align: right;\n",
              "    }\n",
              "</style>\n",
              "<table border=\"1\" class=\"dataframe\">\n",
              "  <thead>\n",
              "    <tr style=\"text-align: right;\">\n",
              "      <th></th>\n",
              "      <th>Survived</th>\n",
              "      <th>Pclass</th>\n",
              "      <th>Sex</th>\n",
              "      <th>SibSp</th>\n",
              "      <th>Parch</th>\n",
              "      <th>Fare</th>\n",
              "      <th>Embarked</th>\n",
              "      <th>Title</th>\n",
              "      <th>Cabin_Code</th>\n",
              "      <th>AgeRange</th>\n",
              "      <th>Relatives</th>\n",
              "      <th>Alone</th>\n",
              "      <th>Fare_PP</th>\n",
              "    </tr>\n",
              "    <tr>\n",
              "      <th>PassengerId</th>\n",
              "      <th></th>\n",
              "      <th></th>\n",
              "      <th></th>\n",
              "      <th></th>\n",
              "      <th></th>\n",
              "      <th></th>\n",
              "      <th></th>\n",
              "      <th></th>\n",
              "      <th></th>\n",
              "      <th></th>\n",
              "      <th></th>\n",
              "      <th></th>\n",
              "      <th></th>\n",
              "    </tr>\n",
              "  </thead>\n",
              "  <tbody>\n",
              "    <tr>\n",
              "      <th>1</th>\n",
              "      <td>0</td>\n",
              "      <td>3</td>\n",
              "      <td>0</td>\n",
              "      <td>1</td>\n",
              "      <td>0</td>\n",
              "      <td>1.0</td>\n",
              "      <td>3</td>\n",
              "      <td>1</td>\n",
              "      <td>0</td>\n",
              "      <td>2.0</td>\n",
              "      <td>1</td>\n",
              "      <td>0.0</td>\n",
              "      <td>2.000000</td>\n",
              "    </tr>\n",
              "    <tr>\n",
              "      <th>2</th>\n",
              "      <td>1</td>\n",
              "      <td>1</td>\n",
              "      <td>1</td>\n",
              "      <td>1</td>\n",
              "      <td>0</td>\n",
              "      <td>3.0</td>\n",
              "      <td>2</td>\n",
              "      <td>3</td>\n",
              "      <td>3</td>\n",
              "      <td>6.0</td>\n",
              "      <td>1</td>\n",
              "      <td>0.0</td>\n",
              "      <td>0.666667</td>\n",
              "    </tr>\n",
              "    <tr>\n",
              "      <th>3</th>\n",
              "      <td>1</td>\n",
              "      <td>3</td>\n",
              "      <td>1</td>\n",
              "      <td>0</td>\n",
              "      <td>0</td>\n",
              "      <td>1.0</td>\n",
              "      <td>3</td>\n",
              "      <td>2</td>\n",
              "      <td>0</td>\n",
              "      <td>3.0</td>\n",
              "      <td>0</td>\n",
              "      <td>1.0</td>\n",
              "      <td>1.000000</td>\n",
              "    </tr>\n",
              "    <tr>\n",
              "      <th>4</th>\n",
              "      <td>1</td>\n",
              "      <td>1</td>\n",
              "      <td>1</td>\n",
              "      <td>1</td>\n",
              "      <td>0</td>\n",
              "      <td>3.0</td>\n",
              "      <td>3</td>\n",
              "      <td>3</td>\n",
              "      <td>3</td>\n",
              "      <td>6.0</td>\n",
              "      <td>1</td>\n",
              "      <td>0.0</td>\n",
              "      <td>0.666667</td>\n",
              "    </tr>\n",
              "    <tr>\n",
              "      <th>5</th>\n",
              "      <td>0</td>\n",
              "      <td>3</td>\n",
              "      <td>0</td>\n",
              "      <td>0</td>\n",
              "      <td>0</td>\n",
              "      <td>1.0</td>\n",
              "      <td>3</td>\n",
              "      <td>1</td>\n",
              "      <td>0</td>\n",
              "      <td>6.0</td>\n",
              "      <td>0</td>\n",
              "      <td>1.0</td>\n",
              "      <td>1.000000</td>\n",
              "    </tr>\n",
              "    <tr>\n",
              "      <th>...</th>\n",
              "      <td>...</td>\n",
              "      <td>...</td>\n",
              "      <td>...</td>\n",
              "      <td>...</td>\n",
              "      <td>...</td>\n",
              "      <td>...</td>\n",
              "      <td>...</td>\n",
              "      <td>...</td>\n",
              "      <td>...</td>\n",
              "      <td>...</td>\n",
              "      <td>...</td>\n",
              "      <td>...</td>\n",
              "      <td>...</td>\n",
              "    </tr>\n",
              "    <tr>\n",
              "      <th>887</th>\n",
              "      <td>0</td>\n",
              "      <td>2</td>\n",
              "      <td>0</td>\n",
              "      <td>0</td>\n",
              "      <td>0</td>\n",
              "      <td>2.0</td>\n",
              "      <td>3</td>\n",
              "      <td>5</td>\n",
              "      <td>0</td>\n",
              "      <td>3.0</td>\n",
              "      <td>0</td>\n",
              "      <td>1.0</td>\n",
              "      <td>0.500000</td>\n",
              "    </tr>\n",
              "    <tr>\n",
              "      <th>888</th>\n",
              "      <td>1</td>\n",
              "      <td>1</td>\n",
              "      <td>1</td>\n",
              "      <td>0</td>\n",
              "      <td>0</td>\n",
              "      <td>3.0</td>\n",
              "      <td>3</td>\n",
              "      <td>2</td>\n",
              "      <td>2</td>\n",
              "      <td>1.0</td>\n",
              "      <td>0</td>\n",
              "      <td>1.0</td>\n",
              "      <td>0.333333</td>\n",
              "    </tr>\n",
              "    <tr>\n",
              "      <th>889</th>\n",
              "      <td>0</td>\n",
              "      <td>3</td>\n",
              "      <td>1</td>\n",
              "      <td>1</td>\n",
              "      <td>2</td>\n",
              "      <td>2.0</td>\n",
              "      <td>3</td>\n",
              "      <td>5</td>\n",
              "      <td>0</td>\n",
              "      <td>3.0</td>\n",
              "      <td>3</td>\n",
              "      <td>0.0</td>\n",
              "      <td>2.000000</td>\n",
              "    </tr>\n",
              "    <tr>\n",
              "      <th>890</th>\n",
              "      <td>1</td>\n",
              "      <td>1</td>\n",
              "      <td>0</td>\n",
              "      <td>0</td>\n",
              "      <td>0</td>\n",
              "      <td>3.0</td>\n",
              "      <td>2</td>\n",
              "      <td>1</td>\n",
              "      <td>3</td>\n",
              "      <td>3.0</td>\n",
              "      <td>0</td>\n",
              "      <td>1.0</td>\n",
              "      <td>0.333333</td>\n",
              "    </tr>\n",
              "    <tr>\n",
              "      <th>891</th>\n",
              "      <td>0</td>\n",
              "      <td>3</td>\n",
              "      <td>0</td>\n",
              "      <td>0</td>\n",
              "      <td>0</td>\n",
              "      <td>1.0</td>\n",
              "      <td>1</td>\n",
              "      <td>1</td>\n",
              "      <td>0</td>\n",
              "      <td>6.0</td>\n",
              "      <td>0</td>\n",
              "      <td>1.0</td>\n",
              "      <td>1.000000</td>\n",
              "    </tr>\n",
              "  </tbody>\n",
              "</table>\n",
              "<p>891 rows × 13 columns</p>\n",
              "</div>"
            ],
            "text/plain": [
              "             Survived  Pclass  Sex  SibSp  ...  AgeRange  Relatives  Alone   Fare_PP\n",
              "PassengerId                                ...                                      \n",
              "1                   0       3    0      1  ...       2.0          1    0.0  2.000000\n",
              "2                   1       1    1      1  ...       6.0          1    0.0  0.666667\n",
              "3                   1       3    1      0  ...       3.0          0    1.0  1.000000\n",
              "4                   1       1    1      1  ...       6.0          1    0.0  0.666667\n",
              "5                   0       3    0      0  ...       6.0          0    1.0  1.000000\n",
              "...               ...     ...  ...    ...  ...       ...        ...    ...       ...\n",
              "887                 0       2    0      0  ...       3.0          0    1.0  0.500000\n",
              "888                 1       1    1      0  ...       1.0          0    1.0  0.333333\n",
              "889                 0       3    1      1  ...       3.0          3    0.0  2.000000\n",
              "890                 1       1    0      0  ...       3.0          0    1.0  0.333333\n",
              "891                 0       3    0      0  ...       6.0          0    1.0  1.000000\n",
              "\n",
              "[891 rows x 13 columns]"
            ]
          },
          "metadata": {
            "tags": []
          },
          "execution_count": 13
        }
      ]
    },
    {
      "cell_type": "code",
      "metadata": {
        "id": "OFFrjUdGMEVQ",
        "colab_type": "code",
        "colab": {}
      },
      "source": [
        "#Scaling\n",
        "dataset.columns\n",
        "x = dataset[['Pclass', 'Sex', 'SibSp', 'Parch', 'Fare',\n",
        "       'Embarked', 'Title', 'Cabin_Code', 'AgeRange', 'Relatives', 'Alone',\n",
        "       'Fare_PP']]  #, 'Age'\n",
        "y = dataset[['Survived']]\n",
        "\n",
        "scalar = MinMaxScaler()\n",
        "scalar.fit(x)\n",
        "x = scalar.transform(x)"
      ],
      "execution_count": 0,
      "outputs": []
    },
    {
      "cell_type": "code",
      "metadata": {
        "id": "2VKVs4jbMVI8",
        "colab_type": "code",
        "colab": {}
      },
      "source": [
        "#train test split\n",
        "x_train, x_test, y_train, y_test = train_test_split(x, y, test_size=0.33, random_state=42)"
      ],
      "execution_count": 0,
      "outputs": []
    },
    {
      "cell_type": "code",
      "metadata": {
        "id": "B9U15hBiF4Nm",
        "colab_type": "code",
        "outputId": "a47d37f4-ff93-447f-fdfb-e3de6055f94b",
        "colab": {
          "base_uri": "https://localhost:8080/",
          "height": 34
        }
      },
      "source": [
        "#Logistic Reg\n",
        "log_reg = LogisticRegression()\n",
        "log_reg.fit(x_train,y_train.values.ravel())\n",
        "y_pred = log_reg.predict(x_test)\n",
        "# print(confusion_matrix(y_test,y_pred,labels=[0,1]))\n",
        "# print(classification_report(y_test,y_pred))\n",
        "# print(\"Accuracy of Logistic Reg:{:.2f}\".format(log_reg.score(x_test,y_test)))\n",
        "acc_log_reg = log_reg.score(x_train,y_train.values.ravel())\n",
        "print(acc_log_reg)"
      ],
      "execution_count": 0,
      "outputs": [
        {
          "output_type": "stream",
          "text": [
            "0.8070469798657718\n"
          ],
          "name": "stdout"
        }
      ]
    },
    {
      "cell_type": "code",
      "metadata": {
        "id": "5IlQpk5YMVHa",
        "colab_type": "code",
        "outputId": "84f3f334-fd6b-4902-f748-efa428646455",
        "colab": {
          "base_uri": "https://localhost:8080/",
          "height": 34
        }
      },
      "source": [
        "gnb = GaussianNB()\n",
        "gnb.fit(x_train,y_train.values.ravel())\n",
        "y_pred = gnb.predict(x_test)\n",
        "# temp = y_test.values.ravel()\n",
        "# print(confusion_matrix(y_test,y_pred,labels=[0,1]))\n",
        "# print(classification_report(y_test,y_pred))\n",
        "# print(np.mean(cross_val_score(gnb, x_train, y_train.values.ravel(), cv=10)))\n",
        "acc_gnb = gnb.score(x_train,y_train.values.ravel())\n",
        "print(acc_gnb)"
      ],
      "execution_count": 0,
      "outputs": [
        {
          "output_type": "stream",
          "text": [
            "0.7701342281879194\n"
          ],
          "name": "stdout"
        }
      ]
    },
    {
      "cell_type": "code",
      "metadata": {
        "id": "H8qbcbA0Ty2q",
        "colab_type": "code",
        "outputId": "285763f8-097c-4d67-9c0f-62848c437ed1",
        "colab": {
          "base_uri": "https://localhost:8080/",
          "height": 34
        }
      },
      "source": [
        "from sklearn.discriminant_analysis import LinearDiscriminantAnalysis\n",
        "lda = LinearDiscriminantAnalysis()\n",
        "lda.fit(x_train,y_train.values.ravel())\n",
        "y_pred = lda.predict(x_test)\n",
        "# print(confusion_matrix(y_test.values.ravel(),y_pred,labels=[0,1]))\n",
        "# print(classification_report(y_test,y_pred))\n",
        "# print(np.mean(cross_val_score(clf, x_train, y_train.values.ravel(), cv=10)))\n",
        "acc_lda = lda.score(x_train,y_train.values.ravel())\n",
        "print(acc_lda)"
      ],
      "execution_count": 0,
      "outputs": [
        {
          "output_type": "stream",
          "text": [
            "0.8036912751677853\n"
          ],
          "name": "stdout"
        }
      ]
    },
    {
      "cell_type": "code",
      "metadata": {
        "id": "C4SNpHKyayTL",
        "colab_type": "code",
        "outputId": "038ee70d-39c9-43f3-a087-d6f732cb3977",
        "colab": {
          "base_uri": "https://localhost:8080/",
          "height": 90
        }
      },
      "source": [
        "from sklearn.svm import SVC\n",
        "svc = SVC(gamma = 'auto')\n",
        "svc.fit(x_train,y_train)\n",
        "y_pred = svc.predict(x_test)\n",
        "# print(confusion_matrix(y_test.values.ravel(),y_pred,labels=[0,1]))\n",
        "# print(classification_report(y_test.values.ravel(),y_pred))\n",
        "# print(np.mean(cross_val_score(clf, x_train, y_train.values.ravel(), cv=10)))\n",
        "acc_svc = svc.score(x_train,y_train.values.ravel())\n",
        "print(acc_svc)"
      ],
      "execution_count": 0,
      "outputs": [
        {
          "output_type": "stream",
          "text": [
            "0.7869127516778524\n"
          ],
          "name": "stdout"
        },
        {
          "output_type": "stream",
          "text": [
            "/usr/local/lib/python3.6/dist-packages/sklearn/utils/validation.py:760: DataConversionWarning: A column-vector y was passed when a 1d array was expected. Please change the shape of y to (n_samples, ), for example using ravel().\n",
            "  y = column_or_1d(y, warn=True)\n"
          ],
          "name": "stderr"
        }
      ]
    },
    {
      "cell_type": "code",
      "metadata": {
        "id": "l3MiIXMhcg8r",
        "colab_type": "code",
        "outputId": "b1b7965f-42dd-4346-bcb0-80d280ccc87e",
        "colab": {
          "base_uri": "https://localhost:8080/",
          "height": 70
        }
      },
      "source": [
        "from sklearn.discriminant_analysis import QuadraticDiscriminantAnalysis\n",
        "qda = QuadraticDiscriminantAnalysis()\n",
        "qda.fit(x_train,y_train.values.ravel())\n",
        "y_pred = qda.predict(x_test)\n",
        "# print(confusion_matrix(y_test.values.ravel(),y_pred,labels=[0,1]))\n",
        "# print(classification_report(y_test.values.ravel(),y_pred))\n",
        "# print(np.mean(cross_val_score(clf, x_train, y_train.values.ravel(), cv=10)))\n",
        "acc_qda = qda.score(x_train,y_train.values.ravel())\n",
        "print(acc_qda)"
      ],
      "execution_count": 0,
      "outputs": [
        {
          "output_type": "stream",
          "text": [
            "0.7802013422818792\n"
          ],
          "name": "stdout"
        },
        {
          "output_type": "stream",
          "text": [
            "/usr/local/lib/python3.6/dist-packages/sklearn/discriminant_analysis.py:691: UserWarning: Variables are collinear\n",
            "  warnings.warn(\"Variables are collinear\")\n"
          ],
          "name": "stderr"
        }
      ]
    },
    {
      "cell_type": "code",
      "metadata": {
        "id": "pkcOQJgTdG7a",
        "colab_type": "code",
        "outputId": "b61d3b78-a3b4-40cc-bc68-14fe9e0fd7ac",
        "colab": {
          "base_uri": "https://localhost:8080/",
          "height": 34
        }
      },
      "source": [
        "from sklearn.neighbors import KNeighborsClassifier\n",
        "knn = KNeighborsClassifier(n_neighbors=3)\n",
        "knn.fit(x_train, y_train.values.ravel())\n",
        "y_pred = knn.predict(x_test)\n",
        "# print(confusion_matrix(y_test.values.ravel(),y_pred,labels=[0,1]))\n",
        "# print(classification_report(y_test.values.ravel(),y_pred))\n",
        "# print(np.mean(cross_val_score(neigh, x_train, y_train.values.ravel(), cv=10)))\n",
        "acc_knn = knn.score(x_train,y_train.values.ravel())\n",
        "print(acc_knn)"
      ],
      "execution_count": 0,
      "outputs": [
        {
          "output_type": "stream",
          "text": [
            "0.8322147651006712\n"
          ],
          "name": "stdout"
        }
      ]
    },
    {
      "cell_type": "code",
      "metadata": {
        "id": "EWJo8IU5dl8-",
        "colab_type": "code",
        "outputId": "cc004de1-3827-485e-89f8-9ae68701c57f",
        "colab": {
          "base_uri": "https://localhost:8080/",
          "height": 34
        }
      },
      "source": [
        "from sklearn.model_selection import cross_val_score\n",
        "from sklearn.tree import DecisionTreeClassifier\n",
        "dt = DecisionTreeClassifier(random_state=0)\n",
        "dt.fit(x_train,y_train)\n",
        "y_pred = dt.predict(x_test)\n",
        "# print(confusion_matrix(y_test.values.ravel(),y_pred,labels=[0,1]))\n",
        "# print(classification_report(y_test.values.ravel(),y_pred))\n",
        "#np.mean(cross_val_score(clf, x_train, y_train, cv=10))\n",
        "acc_dt = dt.score(x_train,y_train.values.ravel())\n",
        "print(acc_dt)"
      ],
      "execution_count": 0,
      "outputs": [
        {
          "output_type": "stream",
          "text": [
            "0.9194630872483222\n"
          ],
          "name": "stdout"
        }
      ]
    },
    {
      "cell_type": "code",
      "metadata": {
        "id": "4HytDA0Oood8",
        "colab_type": "code",
        "outputId": "c0c8c033-7cce-4e57-ae68-69dfd3e3d512",
        "colab": {
          "base_uri": "https://localhost:8080/",
          "height": 34
        }
      },
      "source": [
        "from sklearn.ensemble import RandomForestClassifier\n",
        "rf = RandomForestClassifier(n_estimators=100) #,max_depth=2, random_state=0 \n",
        "rf.fit(x_train, y_train.values.ravel())\n",
        "# print(clf.feature_importances_)\n",
        "y_pred = rf.predict(x_test)\n",
        "# print(confusion_matrix(y_test.values.ravel(),y_pred,labels=[0,1]))\n",
        "# print(classification_report(y_test.values.ravel(),y_pred))\n",
        "# np.mean(cross_val_score(clf, x_train, y_train.values.ravel(), cv=10))\n",
        "acc_rf = rf.score(x_train,y_train.values.ravel())\n",
        "print(acc_rf)"
      ],
      "execution_count": 0,
      "outputs": [
        {
          "output_type": "stream",
          "text": [
            "0.9194630872483222\n"
          ],
          "name": "stdout"
        }
      ]
    },
    {
      "cell_type": "code",
      "metadata": {
        "id": "oef-CoRWq0LQ",
        "colab_type": "code",
        "outputId": "5b472604-4109-43c5-8b7d-a49c27c24588",
        "colab": {
          "base_uri": "https://localhost:8080/",
          "height": 160
        }
      },
      "source": [
        "from sklearn.neural_network import MLPClassifier\n",
        "mlp = MLPClassifier(solver='lbfgs', alpha=1e-5,\n",
        "                     hidden_layer_sizes=(5, 2), random_state=1)\n",
        "mlp.fit(x_train, y_train.values.ravel())\n",
        "y_pred = mlp.predict(x_test)\n",
        "# print(confusion_matrix(y_test.values.ravel(),y_pred,labels=[0,1]))\n",
        "# print(classification_report(y_test.values.ravel(),y_pred))\n",
        "# np.mean(cross_val_score(clf, x_train, y_train.values.ravel(), cv=10))\n",
        "acc_mlp = mlp.score(x_train,y_train)\n",
        "print(acc_mlp)"
      ],
      "execution_count": 0,
      "outputs": [
        {
          "output_type": "stream",
          "text": [
            "0.8557046979865772\n"
          ],
          "name": "stdout"
        },
        {
          "output_type": "stream",
          "text": [
            "/usr/local/lib/python3.6/dist-packages/sklearn/neural_network/_multilayer_perceptron.py:470: ConvergenceWarning: lbfgs failed to converge (status=1):\n",
            "STOP: TOTAL NO. of ITERATIONS REACHED LIMIT.\n",
            "\n",
            "Increase the number of iterations (max_iter) or scale the data as shown in:\n",
            "    https://scikit-learn.org/stable/modules/preprocessing.html\n",
            "  self.n_iter_ = _check_optimize_result(\"lbfgs\", opt_res, self.max_iter)\n"
          ],
          "name": "stderr"
        }
      ]
    },
    {
      "cell_type": "code",
      "metadata": {
        "id": "9tRwdSnHKPBw",
        "colab_type": "code",
        "outputId": "f78694f9-4314-4037-e8ff-02c5a16afff8",
        "colab": {
          "base_uri": "https://localhost:8080/",
          "height": 34
        }
      },
      "source": [
        "from sklearn.linear_model import SGDClassifier\n",
        "sgd = SGDClassifier(max_iter=5, tol=None)\n",
        "sgd.fit(x_train, y_train.values.ravel())\n",
        "Y_pred = sgd.predict(x_test)\n",
        "sgd.score(x_train, y_train.values.ravel())\n",
        "acc_sgd = sgd.score(x_train, y_train.values.ravel())\n",
        "print(acc_sgd)"
      ],
      "execution_count": 0,
      "outputs": [
        {
          "output_type": "stream",
          "text": [
            "0.43791946308724833\n"
          ],
          "name": "stdout"
        }
      ]
    },
    {
      "cell_type": "code",
      "metadata": {
        "id": "2HkyuxBSbKxl",
        "colab_type": "code",
        "outputId": "73b89fd0-47f1-47d9-de61-3c8477a881e1",
        "colab": {
          "base_uri": "https://localhost:8080/",
          "height": 381
        }
      },
      "source": [
        "scores = {\n",
        "    'Model':['LogisticRegression','GaussianNB','LinearDiscriminantAnalysis','SVC',\n",
        "                    'QuadraticDiscriminantAnalysis','KNeighborsClassifier','DecisionTreeClassifier',\n",
        "                    'RandomForestClassifier','MLPClassifier','SGDClassifier'],\n",
        "    'Score':[acc_log_reg,acc_gnb,acc_lda,acc_svc,acc_qda,acc_knn,acc_dt,acc_rf,acc_mlp,acc_sgd]\n",
        "           }\n",
        "results = pd.DataFrame(scores)\n",
        "results = results.set_index('Score')\n",
        "results_df = results.sort_values(by='Score', ascending=False)\n",
        "results_df"
      ],
      "execution_count": 0,
      "outputs": [
        {
          "output_type": "execute_result",
          "data": {
            "text/html": [
              "<div>\n",
              "<style scoped>\n",
              "    .dataframe tbody tr th:only-of-type {\n",
              "        vertical-align: middle;\n",
              "    }\n",
              "\n",
              "    .dataframe tbody tr th {\n",
              "        vertical-align: top;\n",
              "    }\n",
              "\n",
              "    .dataframe thead th {\n",
              "        text-align: right;\n",
              "    }\n",
              "</style>\n",
              "<table border=\"1\" class=\"dataframe\">\n",
              "  <thead>\n",
              "    <tr style=\"text-align: right;\">\n",
              "      <th></th>\n",
              "      <th>Model</th>\n",
              "    </tr>\n",
              "    <tr>\n",
              "      <th>Score</th>\n",
              "      <th></th>\n",
              "    </tr>\n",
              "  </thead>\n",
              "  <tbody>\n",
              "    <tr>\n",
              "      <th>0.919463</th>\n",
              "      <td>DecisionTreeClassifier</td>\n",
              "    </tr>\n",
              "    <tr>\n",
              "      <th>0.919463</th>\n",
              "      <td>RandomForestClassifier</td>\n",
              "    </tr>\n",
              "    <tr>\n",
              "      <th>0.855705</th>\n",
              "      <td>MLPClassifier</td>\n",
              "    </tr>\n",
              "    <tr>\n",
              "      <th>0.832215</th>\n",
              "      <td>KNeighborsClassifier</td>\n",
              "    </tr>\n",
              "    <tr>\n",
              "      <th>0.807047</th>\n",
              "      <td>LogisticRegression</td>\n",
              "    </tr>\n",
              "    <tr>\n",
              "      <th>0.803691</th>\n",
              "      <td>LinearDiscriminantAnalysis</td>\n",
              "    </tr>\n",
              "    <tr>\n",
              "      <th>0.786913</th>\n",
              "      <td>SVC</td>\n",
              "    </tr>\n",
              "    <tr>\n",
              "      <th>0.780201</th>\n",
              "      <td>QuadraticDiscriminantAnalysis</td>\n",
              "    </tr>\n",
              "    <tr>\n",
              "      <th>0.770134</th>\n",
              "      <td>GaussianNB</td>\n",
              "    </tr>\n",
              "    <tr>\n",
              "      <th>0.437919</th>\n",
              "      <td>SGDClassifier</td>\n",
              "    </tr>\n",
              "  </tbody>\n",
              "</table>\n",
              "</div>"
            ],
            "text/plain": [
              "                                  Model\n",
              "Score                                  \n",
              "0.919463         DecisionTreeClassifier\n",
              "0.919463         RandomForestClassifier\n",
              "0.855705                  MLPClassifier\n",
              "0.832215           KNeighborsClassifier\n",
              "0.807047             LogisticRegression\n",
              "0.803691     LinearDiscriminantAnalysis\n",
              "0.786913                            SVC\n",
              "0.780201  QuadraticDiscriminantAnalysis\n",
              "0.770134                     GaussianNB\n",
              "0.437919                  SGDClassifier"
            ]
          },
          "metadata": {
            "tags": []
          },
          "execution_count": 26
        }
      ]
    },
    {
      "cell_type": "code",
      "metadata": {
        "id": "LOcLsh9rg8aH",
        "colab_type": "code",
        "outputId": "896f2699-8d27-4bd3-8068-8425ed69b8cd",
        "colab": {
          "base_uri": "https://localhost:8080/",
          "height": 459
        }
      },
      "source": [
        "from sklearn.model_selection import cross_val_score\n",
        "rf = RandomForestClassifier(n_estimators=100)\n",
        "scores = cross_val_score(rf, x_train, y_train, cv=10, scoring = \"accuracy\")\n",
        "print(\"Scores:\", scores)\n",
        "print(\"Mean:\", scores.mean())\n",
        "print(\"Standard Deviation:\", scores.std())"
      ],
      "execution_count": 0,
      "outputs": [
        {
          "output_type": "stream",
          "text": [
            "/usr/local/lib/python3.6/dist-packages/sklearn/model_selection/_validation.py:515: DataConversionWarning: A column-vector y was passed when a 1d array was expected. Please change the shape of y to (n_samples,), for example using ravel().\n",
            "  estimator.fit(X_train, y_train, **fit_params)\n",
            "/usr/local/lib/python3.6/dist-packages/sklearn/model_selection/_validation.py:515: DataConversionWarning: A column-vector y was passed when a 1d array was expected. Please change the shape of y to (n_samples,), for example using ravel().\n",
            "  estimator.fit(X_train, y_train, **fit_params)\n",
            "/usr/local/lib/python3.6/dist-packages/sklearn/model_selection/_validation.py:515: DataConversionWarning: A column-vector y was passed when a 1d array was expected. Please change the shape of y to (n_samples,), for example using ravel().\n",
            "  estimator.fit(X_train, y_train, **fit_params)\n",
            "/usr/local/lib/python3.6/dist-packages/sklearn/model_selection/_validation.py:515: DataConversionWarning: A column-vector y was passed when a 1d array was expected. Please change the shape of y to (n_samples,), for example using ravel().\n",
            "  estimator.fit(X_train, y_train, **fit_params)\n",
            "/usr/local/lib/python3.6/dist-packages/sklearn/model_selection/_validation.py:515: DataConversionWarning: A column-vector y was passed when a 1d array was expected. Please change the shape of y to (n_samples,), for example using ravel().\n",
            "  estimator.fit(X_train, y_train, **fit_params)\n",
            "/usr/local/lib/python3.6/dist-packages/sklearn/model_selection/_validation.py:515: DataConversionWarning: A column-vector y was passed when a 1d array was expected. Please change the shape of y to (n_samples,), for example using ravel().\n",
            "  estimator.fit(X_train, y_train, **fit_params)\n",
            "/usr/local/lib/python3.6/dist-packages/sklearn/model_selection/_validation.py:515: DataConversionWarning: A column-vector y was passed when a 1d array was expected. Please change the shape of y to (n_samples,), for example using ravel().\n",
            "  estimator.fit(X_train, y_train, **fit_params)\n",
            "/usr/local/lib/python3.6/dist-packages/sklearn/model_selection/_validation.py:515: DataConversionWarning: A column-vector y was passed when a 1d array was expected. Please change the shape of y to (n_samples,), for example using ravel().\n",
            "  estimator.fit(X_train, y_train, **fit_params)\n",
            "/usr/local/lib/python3.6/dist-packages/sklearn/model_selection/_validation.py:515: DataConversionWarning: A column-vector y was passed when a 1d array was expected. Please change the shape of y to (n_samples,), for example using ravel().\n",
            "  estimator.fit(X_train, y_train, **fit_params)\n",
            "/usr/local/lib/python3.6/dist-packages/sklearn/model_selection/_validation.py:515: DataConversionWarning: A column-vector y was passed when a 1d array was expected. Please change the shape of y to (n_samples,), for example using ravel().\n",
            "  estimator.fit(X_train, y_train, **fit_params)\n"
          ],
          "name": "stderr"
        },
        {
          "output_type": "stream",
          "text": [
            "Scores: [0.68333333 0.86666667 0.8        0.83333333 0.83333333 0.68333333\n",
            " 0.83050847 0.83050847 0.77966102 0.89830508]\n",
            "Mean: 0.8038983050847458\n",
            "Standard Deviation: 0.06758403585456225\n"
          ],
          "name": "stdout"
        }
      ]
    },
    {
      "cell_type": "code",
      "metadata": {
        "id": "rl4mjlRfovnm",
        "colab_type": "code",
        "colab": {}
      },
      "source": [
        "#adding column names to x again\n",
        "x = pd.DataFrame(x_train, columns = [['Pclass', 'Sex', 'SibSp', 'Parch', 'Fare',\n",
        "       'Embarked', 'Title', 'Cabin_Code', 'AgeRange', 'Relatives', 'Alone',\n",
        "       'Fare_PP']])"
      ],
      "execution_count": 0,
      "outputs": []
    },
    {
      "cell_type": "code",
      "metadata": {
        "id": "Q8mo5TpejIMv",
        "colab_type": "code",
        "outputId": "63f3a949-4c3b-4271-ada8-6c1b84437195",
        "colab": {
          "base_uri": "https://localhost:8080/",
          "height": 411
        }
      },
      "source": [
        "importances = pd.DataFrame({'feature':['Pclass', 'Sex', 'SibSp', 'Parch', 'Fare',\n",
        "       'Embarked', 'Title', 'Cabin_Code', 'AgeRange', 'Relatives', 'Alone','Fare_PP'], \n",
        "       'importance': np.round(rf.feature_importances_,3)})\n",
        "# importances = pd.DataFrame({'feature':X_train.columns,'importance':np.round(random_forest.feature_importances_,3)})\n",
        "# importances_df = importances.sort_values('importance',ascending=False)\n",
        "# importances_df\n",
        "importances.sort_values(inplace=True, ascending=False, by='importance')\n",
        "importances"
      ],
      "execution_count": 0,
      "outputs": [
        {
          "output_type": "execute_result",
          "data": {
            "text/html": [
              "<div>\n",
              "<style scoped>\n",
              "    .dataframe tbody tr th:only-of-type {\n",
              "        vertical-align: middle;\n",
              "    }\n",
              "\n",
              "    .dataframe tbody tr th {\n",
              "        vertical-align: top;\n",
              "    }\n",
              "\n",
              "    .dataframe thead th {\n",
              "        text-align: right;\n",
              "    }\n",
              "</style>\n",
              "<table border=\"1\" class=\"dataframe\">\n",
              "  <thead>\n",
              "    <tr style=\"text-align: right;\">\n",
              "      <th></th>\n",
              "      <th>feature</th>\n",
              "      <th>importance</th>\n",
              "    </tr>\n",
              "  </thead>\n",
              "  <tbody>\n",
              "    <tr>\n",
              "      <th>1</th>\n",
              "      <td>Sex</td>\n",
              "      <td>0.289</td>\n",
              "    </tr>\n",
              "    <tr>\n",
              "      <th>6</th>\n",
              "      <td>Title</td>\n",
              "      <td>0.226</td>\n",
              "    </tr>\n",
              "    <tr>\n",
              "      <th>0</th>\n",
              "      <td>Pclass</td>\n",
              "      <td>0.114</td>\n",
              "    </tr>\n",
              "    <tr>\n",
              "      <th>7</th>\n",
              "      <td>Cabin_Code</td>\n",
              "      <td>0.086</td>\n",
              "    </tr>\n",
              "    <tr>\n",
              "      <th>11</th>\n",
              "      <td>Fare_PP</td>\n",
              "      <td>0.055</td>\n",
              "    </tr>\n",
              "    <tr>\n",
              "      <th>9</th>\n",
              "      <td>Relatives</td>\n",
              "      <td>0.052</td>\n",
              "    </tr>\n",
              "    <tr>\n",
              "      <th>4</th>\n",
              "      <td>Fare</td>\n",
              "      <td>0.048</td>\n",
              "    </tr>\n",
              "    <tr>\n",
              "      <th>8</th>\n",
              "      <td>AgeRange</td>\n",
              "      <td>0.046</td>\n",
              "    </tr>\n",
              "    <tr>\n",
              "      <th>5</th>\n",
              "      <td>Embarked</td>\n",
              "      <td>0.033</td>\n",
              "    </tr>\n",
              "    <tr>\n",
              "      <th>2</th>\n",
              "      <td>SibSp</td>\n",
              "      <td>0.020</td>\n",
              "    </tr>\n",
              "    <tr>\n",
              "      <th>3</th>\n",
              "      <td>Parch</td>\n",
              "      <td>0.020</td>\n",
              "    </tr>\n",
              "    <tr>\n",
              "      <th>10</th>\n",
              "      <td>Alone</td>\n",
              "      <td>0.010</td>\n",
              "    </tr>\n",
              "  </tbody>\n",
              "</table>\n",
              "</div>"
            ],
            "text/plain": [
              "       feature  importance\n",
              "1          Sex       0.289\n",
              "6        Title       0.226\n",
              "0       Pclass       0.114\n",
              "7   Cabin_Code       0.086\n",
              "11     Fare_PP       0.055\n",
              "9    Relatives       0.052\n",
              "4         Fare       0.048\n",
              "8     AgeRange       0.046\n",
              "5     Embarked       0.033\n",
              "2        SibSp       0.020\n",
              "3        Parch       0.020\n",
              "10       Alone       0.010"
            ]
          },
          "metadata": {
            "tags": []
          },
          "execution_count": 31
        }
      ]
    },
    {
      "cell_type": "code",
      "metadata": {
        "id": "JlwdSMfo2mcF",
        "colab_type": "code",
        "outputId": "63cd1084-640e-45c4-931a-991e151f9722",
        "colab": {
          "base_uri": "https://localhost:8080/",
          "height": 347
        }
      },
      "source": [
        "importances.plot.bar(x='feature')"
      ],
      "execution_count": 0,
      "outputs": [
        {
          "output_type": "execute_result",
          "data": {
            "text/plain": [
              "<matplotlib.axes._subplots.AxesSubplot at 0x7fa113a886d8>"
            ]
          },
          "metadata": {
            "tags": []
          },
          "execution_count": 32
        },
        {
          "output_type": "display_data",
          "data": {
            "image/png": "[encoded data removed]",
            "text/plain": [
              "<Figure size 432x288 with 1 Axes>"
            ]
          },
          "metadata": {
            "tags": [],
            "needs_background": "light"
          }
        }
      ]
    },
    {
      "cell_type": "code",
      "metadata": {
        "id": "QkOTV4o028aI",
        "colab_type": "code",
        "outputId": "fc8ba8a6-f45b-4858-c26c-d65849a15b17",
        "colab": {
          "base_uri": "https://localhost:8080/",
          "height": 157
        }
      },
      "source": [
        "#removing alone\n",
        "x = dataset[['Pclass', 'Sex', 'SibSp', 'Parch', 'Fare',\n",
        "       'Embarked', 'Title', 'Cabin_Code', 'AgeRange', 'Relatives',\n",
        "       'Fare_PP']]  #, 'Age'\n",
        "y = dataset[['Survived']]\n",
        "\n",
        "scalar = MinMaxScaler()\n",
        "scalar.fit(x)\n",
        "x = scalar.transform(x)\n",
        "\n",
        "#train test split\n",
        "x_train, x_test, y_train, y_test = train_test_split(x, y, test_size=0.33, random_state=42)\n",
        "\n",
        "rf = RandomForestClassifier(n_estimators=100) #,max_depth=2, random_state=0\n",
        "rf.fit(x_train, y_train.values.ravel())\n"
      ],
      "execution_count": 0,
      "outputs": [
        {
          "output_type": "execute_result",
          "data": {
            "text/plain": [
              "RandomForestClassifier(bootstrap=True, ccp_alpha=0.0, class_weight=None,\n",
              "                       criterion='gini', max_depth=None, max_features='auto',\n",
              "                       max_leaf_nodes=None, max_samples=None,\n",
              "                       min_impurity_decrease=0.0, min_impurity_split=None,\n",
              "                       min_samples_leaf=1, min_samples_split=2,\n",
              "                       min_weight_fraction_leaf=0.0, n_estimators=100,\n",
              "                       n_jobs=None, oob_score=False, random_state=None,\n",
              "                       verbose=0, warm_start=False)"
            ]
          },
          "metadata": {
            "tags": []
          },
          "execution_count": 33
        }
      ]
    },
    {
      "cell_type": "code",
      "metadata": {
        "id": "Rn69pOMu3_0c",
        "colab_type": "code",
        "outputId": "e36407fd-c77b-4787-e2fe-28adf77749af",
        "colab": {
          "base_uri": "https://localhost:8080/",
          "height": 125
        }
      },
      "source": [
        "# Random Forest\n",
        "random_forest = RandomForestClassifier(n_estimators=100, oob_score = True)\n",
        "random_forest.fit(x_train, y_train)\n",
        "Y_prediction = random_forest.predict(x_test)\n",
        "\n",
        "print(random_forest.score(x_train, y_train))\n",
        "\n",
        "acc_random_forest = round(random_forest.score(x_train, y_train) * 100, 2)\n",
        "print(round(acc_random_forest,2,), \"%\")\n",
        "print(\"oob score: \",round(random_forest.oob_score_,4)*100,\"%\")"
      ],
      "execution_count": 0,
      "outputs": [
        {
          "output_type": "stream",
          "text": [
            "/usr/local/lib/python3.6/dist-packages/ipykernel_launcher.py:2: DataConversionWarning: A column-vector y was passed when a 1d array was expected. Please change the shape of y to (n_samples,), for example using ravel().\n",
            "  \n"
          ],
          "name": "stderr"
        },
        {
          "output_type": "stream",
          "text": [
            "0.9194630872483222\n",
            "91.95 %\n",
            "oob score:  79.19 %\n"
          ],
          "name": "stdout"
        }
      ]
    },
    {
      "cell_type": "code",
      "metadata": {
        "id": "G1X_WFKFAQnP",
        "colab_type": "code",
        "colab": {}
      },
      "source": [
        "# param_grid = {\"criterion\":[\"gini\",\"entropy\"], \n",
        "#               \"min_samples_leaf\":[1,5,10,25,50,70],\n",
        "#               \"min_samples_split\":[2,4,10,12,16,18,25,35],\n",
        "#               \"n_estimators\":[100,400,700,1000,1500]}\n",
        "\n",
        "# from sklearn.model_selection import GridSearchCV, cross_val_score\n",
        "# rf = RandomForestClassifier(n_estimators=100, max_features='auto', oob_score=True, random_state=1, n_jobs=-1)\n",
        "\n",
        "# clf = GridSearchCV(estimator=rf, param_grid=param_grid, n_jobs=-1)\n",
        "# clf.fit(x_train,y_train)\n",
        "# clf.best_params_"
      ],
      "execution_count": 0,
      "outputs": []
    },
    {
      "cell_type": "code",
      "metadata": {
        "id": "2jVZh9JAMzCV",
        "colab_type": "code",
        "outputId": "e3cc75e9-d25c-4ea6-f868-556a400a4baf",
        "colab": {
          "base_uri": "https://localhost:8080/",
          "height": 90
        }
      },
      "source": [
        "rf = RandomForestClassifier(criterion = 'gini',\n",
        "                                      min_samples_leaf = 5,\n",
        "                                      min_samples_split = 2,\n",
        "                                      n_estimators = 100,\n",
        "                                      max_features = 'auto',\n",
        "                                       oob_score = True,\n",
        "                                       random_state = 1,\n",
        "                                       n_jobs = -1)\n",
        "rf.fit(x_train, y_train)\n",
        "Y_prediction = rf.predict(x_test)\n",
        "rf.score(x_train, y_train)\n",
        "print(\"oob score:\", round(rf.oob_score_, 4)*100, \"%\")"
      ],
      "execution_count": 0,
      "outputs": [
        {
          "output_type": "stream",
          "text": [
            "/usr/local/lib/python3.6/dist-packages/ipykernel_launcher.py:9: DataConversionWarning: A column-vector y was passed when a 1d array was expected. Please change the shape of y to (n_samples,), for example using ravel().\n",
            "  if __name__ == '__main__':\n"
          ],
          "name": "stderr"
        },
        {
          "output_type": "stream",
          "text": [
            "oob score: 81.38 %\n"
          ],
          "name": "stdout"
        }
      ]
    },
    {
      "cell_type": "code",
      "metadata": {
        "id": "mLrqmRoNZKAd",
        "colab_type": "code",
        "outputId": "428a7012-dbca-4f95-ac24-674adcd809e1",
        "colab": {
          "base_uri": "https://localhost:8080/",
          "height": 52
        }
      },
      "source": [
        "from sklearn.metrics import precision_score, recall_score\n",
        "print('Precision: ', precision_score(y_test,y_pred))\n",
        "print('Recall: ', recall_score(y_test,y_pred))"
      ],
      "execution_count": 0,
      "outputs": [
        {
          "output_type": "stream",
          "text": [
            "Precision:  0.8148148148148148\n",
            "Recall:  0.7333333333333333\n"
          ],
          "name": "stdout"
        }
      ]
    },
    {
      "cell_type": "code",
      "metadata": {
        "id": "xYUOfX2qGiSH",
        "colab_type": "code",
        "outputId": "55904a33-fecf-4d4a-f743-dd6121d754c9",
        "colab": {
          "base_uri": "https://localhost:8080/",
          "height": 34
        }
      },
      "source": [
        "from sklearn.metrics import f1_score\n",
        "f1_score(y_test, y_pred)"
      ],
      "execution_count": 0,
      "outputs": [
        {
          "output_type": "execute_result",
          "data": {
            "text/plain": [
              "0.7719298245614035"
            ]
          },
          "metadata": {
            "tags": []
          },
          "execution_count": 38
        }
      ]
    },
    {
      "cell_type": "code",
      "metadata": {
        "id": "yUoM2t5uGqLm",
        "colab_type": "code",
        "outputId": "e2f57790-dfd9-481a-8982-9d8f864edc6b",
        "colab": {
          "base_uri": "https://localhost:8080/",
          "height": 455
        }
      },
      "source": [
        "from sklearn.metrics import precision_recall_curve\n",
        "from matplotlib import pyplot as plt\n",
        "#getting prob of out predictions\n",
        "y_scores = rf.predict_proba(x_train)\n",
        "y_scores = y_scores[:,1]\n",
        "\n",
        "precision, recall, threshold = precision_recall_curve(y_train,y_scores)\n",
        "\n",
        "def plot_precision_and_recall(precision,recall,threshold):\n",
        "  plt.plot(threshold, precision[:-1], \"r-\", label=\"precision\", linewidth=5)\n",
        "  plt.plot(threshold, recall[:-1], \"b\", label=\"precision\", linewidth=5)\n",
        "  plt.xlabel(\"threshold\", fontsize=19)\n",
        "  plt.ylim([0,1])\n",
        "\n",
        "plt.figure(figsize=(14,7))\n",
        "plot_precision_and_recall(precision,recall,threshold)\n",
        "plt.show()"
      ],
      "execution_count": 0,
      "outputs": [
        {
          "output_type": "display_data",
          "data": {
            "image/png": "[encoded data removed]",
            "text/plain": [
              "<Figure size 1008x504 with 1 Axes>"
            ]
          },
          "metadata": {
            "tags": [],
            "needs_background": "light"
          }
        }
      ]
    },
    {
      "cell_type": "code",
      "metadata": {
        "id": "ZvXijD1aQR8_",
        "colab_type": "code",
        "outputId": "4744182a-fad3-47db-f598-dac0443eed31",
        "colab": {
          "base_uri": "https://localhost:8080/",
          "height": 451
        }
      },
      "source": [
        "def plot_precision_vs_recall(precision, recall):\n",
        "    plt.plot(recall, precision, \"g--\", linewidth=2.5)\n",
        "    plt.ylabel(\"recall\", fontsize=19)\n",
        "    plt.xlabel(\"precision\", fontsize=19)\n",
        "    plt.axis([0, 1.5, 0, 1.5])\n",
        "\n",
        "plt.figure(figsize=(14, 7))\n",
        "plot_precision_vs_recall(precision, recall)\n",
        "plt.show()"
      ],
      "execution_count": 0,
      "outputs": [
        {
          "output_type": "display_data",
          "data": {
            "image/png": "[encoded data removed]",
            "text/plain": [
              "<Figure size 1008x504 with 1 Axes>"
            ]
          },
          "metadata": {
            "tags": [],
            "needs_background": "light"
          }
        }
      ]
    },
    {
      "cell_type": "code",
      "metadata": {
        "id": "o27Rwl0TQYEC",
        "colab_type": "code",
        "outputId": "8be3163e-887f-42e9-a785-1299780c238c",
        "colab": {
          "base_uri": "https://localhost:8080/",
          "height": 451
        }
      },
      "source": [
        "from sklearn.metrics import roc_curve\n",
        "# compute true positive rate and false positive rate\n",
        "false_positive_rate, true_positive_rate, thresholds = roc_curve(y_train, y_scores)\n",
        "# plotting them against each other\n",
        "def plot_roc_curve(false_positive_rate, true_positive_rate, label=None):\n",
        "    plt.plot(false_positive_rate, true_positive_rate, linewidth=2, label=label)\n",
        "    plt.plot([0, 1], [0, 1], 'r', linewidth=4)\n",
        "    plt.axis([0, 1, 0, 1])\n",
        "    plt.xlabel('False Positive Rate (FPR)', fontsize=16)\n",
        "    plt.ylabel('True Positive Rate (TPR)', fontsize=16)\n",
        "\n",
        "plt.figure(figsize=(14, 7))\n",
        "plot_roc_curve(false_positive_rate, true_positive_rate)\n",
        "plt.show()"
      ],
      "execution_count": 0,
      "outputs": [
        {
          "output_type": "display_data",
          "data": {
            "image/png": "[encoded data removed]",
            "text/plain": [
              "<Figure size 1008x504 with 1 Axes>"
            ]
          },
          "metadata": {
            "tags": [],
            "needs_background": "light"
          }
        }
      ]
    },
    {
      "cell_type": "code",
      "metadata": {
        "id": "AGKzWq4AQ0w9",
        "colab_type": "code",
        "outputId": "5c95a4e6-73fa-4172-deb6-872ddb4958b6",
        "colab": {
          "base_uri": "https://localhost:8080/",
          "height": 34
        }
      },
      "source": [
        "from sklearn.metrics import roc_auc_score\n",
        "r_a_score = roc_auc_score(y_train, y_scores)\n",
        "print(\"ROC-AUC-Score:\", r_a_score)"
      ],
      "execution_count": 0,
      "outputs": [
        {
          "output_type": "stream",
          "text": [
            "ROC-AUC-Score: 0.9081454449101508\n"
          ],
          "name": "stdout"
        }
      ]
    }
  ]
}